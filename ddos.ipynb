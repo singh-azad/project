{
  "nbformat": 4,
  "nbformat_minor": 0,
  "metadata": {
    "colab": {
      "private_outputs": true,
      "provenance": [],
      "include_colab_link": true
    },
    "kernelspec": {
      "name": "python3",
      "display_name": "Python 3"
    },
    "language_info": {
      "name": "python"
    }
  },
  "cells": [
    {
      "cell_type": "markdown",
      "metadata": {
        "id": "view-in-github",
        "colab_type": "text"
      },
      "source": [
        "<a href=\"https://colab.research.google.com/github/singh-azad/project/blob/main/ddos.ipynb\" target=\"_parent\"><img src=\"https://colab.research.google.com/assets/colab-badge.svg\" alt=\"Open In Colab\"/></a>"
      ]
    },
    {
      "cell_type": "markdown",
      "source": [
        "# **Detection of DDoS attack using Attention base Machine Learning**"
      ],
      "metadata": {
        "id": "R8CcvedyMifB"
      }
    },
    {
      "cell_type": "markdown",
      "source": [
        "## **Libraries imported**"
      ],
      "metadata": {
        "id": "AJgnKTpPJ9YX"
      }
    },
    {
      "cell_type": "code",
      "source": [
        "import pandas as pd\n",
        "import numpy as np\n",
        "import time\n",
        "from sklearn.feature_selection import SelectKBest, f_classif\n",
        "from sklearn.model_selection import train_test_split\n",
        "from sklearn.ensemble import RandomForestClassifier\n",
        "from sklearn.preprocessing import StandardScaler\n",
        "from sklearn.metrics import confusion_matrix\n",
        "from sklearn.model_selection import KFold\n",
        "from sklearn.model_selection import cross_val_score\n",
        "from sklearn.metrics import accuracy_score\n",
        "from sklearn.metrics import f1_score\n",
        "from sklearn.metrics import recall_score\n",
        "from sklearn.metrics import precision_score"
      ],
      "metadata": {
        "id": "WfgzrYZXenQk"
      },
      "execution_count": null,
      "outputs": []
    },
    {
      "cell_type": "markdown",
      "source": [
        "## **Dataset**"
      ],
      "metadata": {
        "id": "n6P1xJS8KKWt"
      }
    },
    {
      "cell_type": "code",
      "source": [
        "df = pd.read_csv('/content/Friday-WorkingHours-Afternoon-DDos.pcap_ISCX.csv')"
      ],
      "metadata": {
        "id": "muHUFcUVerzq"
      },
      "execution_count": null,
      "outputs": []
    },
    {
      "cell_type": "markdown",
      "source": [
        "## **Data** **Preprocessing**"
      ],
      "metadata": {
        "id": "cVMdRgb3MXbX"
      }
    },
    {
      "cell_type": "markdown",
      "source": [
        "**Converting IP adddresses into int**"
      ],
      "metadata": {
        "id": "QtPCttxxKNfE"
      }
    },
    {
      "cell_type": "code",
      "source": [
        "import ipaddress"
      ],
      "metadata": {
        "id": "hQ00P7RQaVs2"
      },
      "execution_count": null,
      "outputs": []
    },
    {
      "cell_type": "code",
      "source": [
        "df['NumericalSourceIP'] = df[' Source IP'].apply(lambda x: int(ipaddress.IPv4Address(x)))\n",
        "df['NumericalDestinationIP'] = df[' Destination IP'].apply(lambda x: int(ipaddress.IPv4Address(x)))"
      ],
      "metadata": {
        "id": "grq_3VJQhfwZ"
      },
      "execution_count": null,
      "outputs": []
    },
    {
      "cell_type": "markdown",
      "source": [
        "**Converting timestamp to int and storing in 'Timestamp'**"
      ],
      "metadata": {
        "id": "U16cs-NiKWKF"
      }
    },
    {
      "cell_type": "code",
      "source": [
        "df['Timestamp'] = pd.to_datetime(df[' Timestamp']).astype(int) / 10**9"
      ],
      "metadata": {
        "id": "rEgAmkTDi8FD"
      },
      "execution_count": null,
      "outputs": []
    },
    {
      "cell_type": "markdown",
      "source": [
        "**Before droping the columns in dataframe**"
      ],
      "metadata": {
        "id": "YWHPEO7GLJJv"
      }
    },
    {
      "cell_type": "code",
      "source": [
        "df.columns"
      ],
      "metadata": {
        "id": "qlW-ibBHq_po"
      },
      "execution_count": null,
      "outputs": []
    },
    {
      "cell_type": "markdown",
      "source": [
        "**droping the columns Flow Id, Source IP, Destination IP, Timestamp**"
      ],
      "metadata": {
        "id": "KRTFN9hHKqc1"
      }
    },
    {
      "cell_type": "code",
      "source": [
        "columns_to_drop = ['Flow ID', ' Source IP', ' Destination IP', ' Timestamp']\n",
        "df = df.drop(columns_to_drop, axis=1)"
      ],
      "metadata": {
        "id": "3L5LV_yciJqe"
      },
      "execution_count": null,
      "outputs": []
    },
    {
      "cell_type": "markdown",
      "source": [
        "**After droping the columns**"
      ],
      "metadata": {
        "id": "V8m-IP71LO9x"
      }
    },
    {
      "cell_type": "code",
      "source": [
        "df.columns"
      ],
      "metadata": {
        "id": "_B6POStkrLWF"
      },
      "execution_count": null,
      "outputs": []
    },
    {
      "cell_type": "markdown",
      "source": [
        "**Deleting infinite values and null values**"
      ],
      "metadata": {
        "id": "p2BkR27cLS9p"
      }
    },
    {
      "cell_type": "code",
      "source": [
        "df = df[~np.isinf(df['Flow Bytes/s'])]\n",
        "df.dropna(inplace=True)"
      ],
      "metadata": {
        "id": "Gl_L6KzLnDZ6"
      },
      "execution_count": null,
      "outputs": []
    },
    {
      "cell_type": "code",
      "source": [
        "X = df.drop(' Label', axis=1)\n",
        "y = df[' Label']"
      ],
      "metadata": {
        "id": "tp0HF8X5eyii"
      },
      "execution_count": null,
      "outputs": []
    },
    {
      "cell_type": "markdown",
      "source": [
        "**Spliting the dataset in *train* and *test* set**"
      ],
      "metadata": {
        "id": "Zh0VEOWkLdKJ"
      }
    },
    {
      "cell_type": "code",
      "source": [
        "X_train, X_test, y_train, y_test = train_test_split(X, y, test_size=0.2, random_state=42)"
      ],
      "metadata": {
        "id": "GHGZw7dGfH7r"
      },
      "execution_count": null,
      "outputs": []
    },
    {
      "cell_type": "markdown",
      "source": [
        "**Checking the shape of the data set**"
      ],
      "metadata": {
        "id": "t6P51LuwLyqF"
      }
    },
    {
      "cell_type": "code",
      "source": [
        "num_columns = X.shape[1]\n",
        "print(num_columns)"
      ],
      "metadata": {
        "id": "pjDP0tNWfg8K"
      },
      "execution_count": null,
      "outputs": []
    },
    {
      "cell_type": "markdown",
      "source": [
        "### **Features selection**"
      ],
      "metadata": {
        "id": "WGP2S4ymL57G"
      }
    },
    {
      "cell_type": "markdown",
      "source": [
        "\n",
        ">**Best 15 features is selected and stored in X_train_selected and X_test_selected**\n",
        "\n"
      ],
      "metadata": {
        "id": "wJnXtYyxNLOZ"
      }
    },
    {
      "cell_type": "code",
      "source": [
        "k = 15  # Number of features to select\n",
        "selector = SelectKBest(score_func=f_classif, k=k)\n",
        "X_train_selected = selector.fit_transform(X_train, y_train)\n",
        "X_test_selected = selector.transform(X_test)"
      ],
      "metadata": {
        "id": "B48FXsLifR7Q"
      },
      "execution_count": null,
      "outputs": []
    },
    {
      "cell_type": "markdown",
      "source": [
        "\n",
        "\n",
        "> **Selected features**\n",
        "\n"
      ],
      "metadata": {
        "id": "kmTvEdGAMD_X"
      }
    },
    {
      "cell_type": "code",
      "source": [
        "selected_feature_names = X.columns[selector.get_support()]\n",
        "selected_feature_names"
      ],
      "metadata": {
        "id": "TyJxWjJAotZC"
      },
      "execution_count": null,
      "outputs": []
    },
    {
      "cell_type": "markdown",
      "source": [
        "## **KNN**\n",
        "\n",
        "---"
      ],
      "metadata": {
        "id": "d7CPNfLLwl_T"
      }
    },
    {
      "cell_type": "markdown",
      "source": [
        "\n",
        "\n",
        "> **Model**\n"
      ],
      "metadata": {
        "id": "MhRYkT1zHNCx"
      }
    },
    {
      "cell_type": "code",
      "source": [
        "from sklearn.neighbors import KNeighborsClassifier\n",
        "\n",
        "\n",
        "res1 = time.time()\n",
        "\n",
        "# Create a K-Nearest Neighbors classifier\n",
        "knn = KNeighborsClassifier()\n",
        "knn = knn.fit(X_train_selected , y_train)\n",
        "knn\n",
        "\n",
        "res2 = time.time()\n",
        "\n",
        "print('KNN took ',res2-res1,'seconds')"
      ],
      "metadata": {
        "id": "fScekK6oqJlv"
      },
      "execution_count": null,
      "outputs": []
    },
    {
      "cell_type": "markdown",
      "source": [
        "> **Validation**"
      ],
      "metadata": {
        "id": "bjDeemkqHl4q"
      }
    },
    {
      "cell_type": "code",
      "source": [
        "#validating with kfold method\n",
        "# Define the number of folds (K)\n",
        "k = 5\n",
        "\n",
        "# Create a K-Fold cross-validator\n",
        "kf = KFold(n_splits=k)\n",
        "\n",
        "# Perform K-fold cross-validation\n",
        "scores = cross_val_score(knn, X_train_selected, y_train, cv=kf)\n",
        "\n",
        "# Print the accuracy for each fold\n",
        "for fold_idx, score in enumerate(scores):\n",
        "    print(f\"Fold {fold_idx + 1} accuracy: {score}\")\n",
        "\n",
        "# Compute the mean accuracy and standard deviation across all folds\n",
        "mean_accuracy = np.mean(scores)\n",
        "\n",
        "print(f\"\\nMean accuracy: {mean_accuracy}\")"
      ],
      "metadata": {
        "id": "4hDQbsbBvqLg"
      },
      "execution_count": null,
      "outputs": []
    },
    {
      "cell_type": "markdown",
      "source": [
        "> **Testing Model**"
      ],
      "metadata": {
        "id": "W1ETdlUGHpKS"
      }
    },
    {
      "cell_type": "code",
      "source": [
        "#testing \n",
        "\n",
        "y_pred1 = knn.predict(X_test_selected)\n",
        "\n",
        "print('Accuracy score= {:.8f}'.format(knn.score(X_test_selected, y_test)))"
      ],
      "metadata": {
        "id": "qpWf488ovrAG"
      },
      "execution_count": null,
      "outputs": []
    },
    {
      "cell_type": "markdown",
      "source": [
        "> **Precision**"
      ],
      "metadata": {
        "id": "J2Orq0o5Hv-7"
      }
    },
    {
      "cell_type": "code",
      "source": [
        "# Calculate the precision score\n",
        "precision = precision_score(y_test, y_pred1, average='weighted')\n",
        "print(\"Precision score:\", precision)"
      ],
      "metadata": {
        "id": "lLyCqKvDwiAZ"
      },
      "execution_count": null,
      "outputs": []
    },
    {
      "cell_type": "markdown",
      "source": [
        "> **Recall**"
      ],
      "metadata": {
        "id": "q1rigQBJH0H6"
      }
    },
    {
      "cell_type": "code",
      "source": [
        "# Calculate recall\n",
        "recall = recall_score(y_test , y_pred1, pos_label='DDoS')\n",
        "\n",
        "print(\"Recall:\", recall)"
      ],
      "metadata": {
        "id": "fSW-VxQatDSS"
      },
      "execution_count": null,
      "outputs": []
    },
    {
      "cell_type": "markdown",
      "source": [
        ">**F1** **Score**"
      ],
      "metadata": {
        "id": "RdOdz0f0H2dj"
      }
    },
    {
      "cell_type": "code",
      "source": [
        "# Calculate the F1 score\n",
        "f1 = f1_score(y_test, y_pred1, pos_label='DDoS')\n",
        "\n",
        "print(\"F1 Score:\", f1)"
      ],
      "metadata": {
        "id": "VnbYoEtEtvjb"
      },
      "execution_count": null,
      "outputs": []
    },
    {
      "cell_type": "markdown",
      "source": [
        "\n",
        "> **Confusion Matrix**\n",
        "\n"
      ],
      "metadata": {
        "id": "YaszFSPoH7o8"
      }
    },
    {
      "cell_type": "code",
      "source": [
        "# Generate the confusion matrix\n",
        "cm = confusion_matrix(y_test, y_pred1)\n",
        "\n",
        "# Print the confusion matrix\n",
        "print(\"Confusion Matrix:\")\n",
        "print(cm)"
      ],
      "metadata": {
        "id": "ea-PGv7duNii"
      },
      "execution_count": null,
      "outputs": []
    },
    {
      "cell_type": "markdown",
      "source": [
        "## **Random Forest**"
      ],
      "metadata": {
        "id": "SGK8Sfdtfzb_"
      }
    },
    {
      "cell_type": "markdown",
      "source": [
        "\n",
        "\n",
        "> **Model** \n",
        "\n"
      ],
      "metadata": {
        "id": "YU-V9lFBIV21"
      }
    },
    {
      "cell_type": "code",
      "source": [
        "res1 = time.time()\n",
        "\n",
        "rf = RandomForestClassifier()\n",
        "rf.fit(X_train_selected , y_train)\n",
        "res2 = time.time()\n",
        "print('RandomForest  took ',res2-res1,'seconds')"
      ],
      "metadata": {
        "id": "QqPjUiABpFaX"
      },
      "execution_count": null,
      "outputs": []
    },
    {
      "cell_type": "markdown",
      "source": [
        "\n",
        "\n",
        "> **Validation**\n",
        "\n"
      ],
      "metadata": {
        "id": "pyzZH1g0IYwm"
      }
    },
    {
      "cell_type": "code",
      "source": [
        "#validating with kfold method\n",
        "# Define the number of folds (K)\n",
        "k = 5\n",
        "\n",
        "# Create a K-Fold cross-validator\n",
        "kf = KFold(n_splits=k)\n",
        "\n",
        "# Perform K-fold cross-validation\n",
        "scores = cross_val_score(rf, X_train_selected, y_train, cv=kf)\n",
        "\n",
        "# Print the accuracy for each fold\n",
        "for fold_idx, score in enumerate(scores):\n",
        "    print(f\"Fold {fold_idx + 1} accuracy: {score}\")\n",
        "\n",
        "# Compute the mean accuracy and standard deviation across all folds\n",
        "mean_accuracy = np.mean(scores)\n",
        "\n",
        "print(f\"\\nMean accuracy: {mean_accuracy}\")"
      ],
      "metadata": {
        "id": "QW3TJW6qv9AK"
      },
      "execution_count": null,
      "outputs": []
    },
    {
      "cell_type": "markdown",
      "source": [
        "\n",
        "\n",
        "> **Testing** **Model**\n",
        "\n"
      ],
      "metadata": {
        "id": "evWOdY9_IsqU"
      }
    },
    {
      "cell_type": "code",
      "source": [
        "y_pred1 = rf.predict(X_test_selected)\n",
        "\n",
        "#Calculate the accuracy\n",
        "accuracy = accuracy_score(y_test, y_pred1)\n",
        "print(\"Accuracy score:\", accuracy)\n"
      ],
      "metadata": {
        "id": "tvWvoA80wI9p"
      },
      "execution_count": null,
      "outputs": []
    },
    {
      "cell_type": "markdown",
      "source": [
        "\n",
        "\n",
        "> **Precision**\n",
        "\n"
      ],
      "metadata": {
        "id": "Io4HbIa0I01M"
      }
    },
    {
      "cell_type": "code",
      "source": [
        "# Calculate the precision score\n",
        "precision = precision_score(y_test, y_pred1, average='weighted')\n",
        "print(\"Precision score:\", precision)\n"
      ],
      "metadata": {
        "id": "jNOibx73wSw-"
      },
      "execution_count": null,
      "outputs": []
    },
    {
      "cell_type": "markdown",
      "source": [
        "\n",
        "\n",
        "> **Recall**\n",
        "\n"
      ],
      "metadata": {
        "id": "JeTDW3l_I6TU"
      }
    },
    {
      "cell_type": "code",
      "source": [
        "# Calculate recall\n",
        "recall = recall_score(y_test , y_pred1, pos_label='DDoS')\n",
        "\n",
        "print(\"Recall:\", recall)"
      ],
      "metadata": {
        "id": "htR4KgVvwawc"
      },
      "execution_count": null,
      "outputs": []
    },
    {
      "cell_type": "markdown",
      "source": [
        "\n",
        "\n",
        "> **F1** **Score**\n",
        "\n"
      ],
      "metadata": {
        "id": "FRji-CxbI_cM"
      }
    },
    {
      "cell_type": "code",
      "source": [
        "# Calculate the F1 score\n",
        "f1 = f1_score(y_test, y_pred1, pos_label='DDoS')\n",
        "\n",
        "print(\"F1 Score: \", f1)"
      ],
      "metadata": {
        "id": "yqr3nCwiwfT-"
      },
      "execution_count": null,
      "outputs": []
    },
    {
      "cell_type": "markdown",
      "source": [
        "\n",
        "\n",
        "> **Confusion Matrix**\n",
        "\n"
      ],
      "metadata": {
        "id": "GWgRz-UIJERE"
      }
    },
    {
      "cell_type": "code",
      "source": [
        "# Generate the confusion matrix\n",
        "cm = confusion_matrix(y_test, y_pred1)\n",
        "\n",
        "# Print the confusion matrix\n",
        "print(\"Confusion Matrix:\")\n",
        "print(cm)"
      ],
      "metadata": {
        "id": "JkUhHsU2wYO4"
      },
      "execution_count": null,
      "outputs": []
    },
    {
      "cell_type": "markdown",
      "source": [
        "## **NB**"
      ],
      "metadata": {
        "id": "iWdNSvgjWjsO"
      }
    },
    {
      "cell_type": "markdown",
      "source": [
        "\n",
        "\n",
        "> **Model** \n",
        "\n"
      ],
      "metadata": {
        "id": "DQPRHim3WyeW"
      }
    },
    {
      "cell_type": "code",
      "source": [
        "from sklearn.naive_bayes import GaussianNB\n",
        "\n",
        "res1 = time.time()\n",
        "\n",
        "# Create a Gaussian Naive Bayes classifier\n",
        "gnb = GaussianNB()\n",
        "\n",
        "gnb.fit(X_train_selected , y_train)\n",
        "\n",
        "res2 = time.time()\n",
        "\n",
        "print('GNB  took ',res2-res1,'seconds')"
      ],
      "metadata": {
        "id": "ufmeq56hWyeX"
      },
      "execution_count": null,
      "outputs": []
    },
    {
      "cell_type": "markdown",
      "source": [
        "\n",
        "\n",
        "> **Validation**\n",
        "\n"
      ],
      "metadata": {
        "id": "n4RRpee_WyeX"
      }
    },
    {
      "cell_type": "code",
      "source": [
        "#validating with kfold method\n",
        "# Define the number of folds (K)\n",
        "k = 5\n",
        "\n",
        "# Create a K-Fold cross-validator\n",
        "kf = KFold(n_splits=k)\n",
        "\n",
        "# Perform K-fold cross-validation\n",
        "scores = cross_val_score(gnb, X_train_selected, y_train, cv=kf)\n",
        "\n",
        "# Print the accuracy for each fold\n",
        "for fold_idx, score in enumerate(scores):\n",
        "    print(f\"Fold {fold_idx + 1} accuracy: {score}\")\n",
        "\n",
        "# Compute the mean accuracy and standard deviation across all folds\n",
        "mean_accuracy = np.mean(scores)\n",
        "\n",
        "print(f\"\\nMean accuracy: {mean_accuracy}\")"
      ],
      "metadata": {
        "id": "EP3buNb7WyeX"
      },
      "execution_count": null,
      "outputs": []
    },
    {
      "cell_type": "markdown",
      "source": [
        "\n",
        "\n",
        "> **Testing** **Model**\n",
        "\n"
      ],
      "metadata": {
        "id": "Oiow55ioWyeY"
      }
    },
    {
      "cell_type": "code",
      "source": [
        "y_pred1 = gnb.predict(X_test_selected)\n",
        "\n",
        "#Calculate the accuracy\n",
        "accuracy = accuracy_score(y_test, y_pred1)\n",
        "print(\"Accuracy score:\", accuracy)\n"
      ],
      "metadata": {
        "id": "izEUf8-RWyeY"
      },
      "execution_count": null,
      "outputs": []
    },
    {
      "cell_type": "markdown",
      "source": [
        "\n",
        "\n",
        "> **Precision**\n",
        "\n"
      ],
      "metadata": {
        "id": "SbfjIR_NWyeY"
      }
    },
    {
      "cell_type": "code",
      "source": [
        "# Calculate the precision score\n",
        "precision = precision_score(y_test, y_pred1, average='weighted')\n",
        "print(\"Precision score:\", precision)\n"
      ],
      "metadata": {
        "id": "hO8dDLruWyeZ"
      },
      "execution_count": null,
      "outputs": []
    },
    {
      "cell_type": "markdown",
      "source": [
        "\n",
        "\n",
        "> **Recall**\n",
        "\n"
      ],
      "metadata": {
        "id": "99Fk2jUUWyeZ"
      }
    },
    {
      "cell_type": "code",
      "source": [
        "# Calculate recall\n",
        "recall = recall_score(y_test , y_pred1, pos_label='DDoS')\n",
        "\n",
        "print(\"Recall:\", recall)"
      ],
      "metadata": {
        "id": "nBG43-7OWyeZ"
      },
      "execution_count": null,
      "outputs": []
    },
    {
      "cell_type": "markdown",
      "source": [
        "\n",
        "\n",
        "> **F1** **Score**\n",
        "\n"
      ],
      "metadata": {
        "id": "nKrYlAgRWyeZ"
      }
    },
    {
      "cell_type": "code",
      "source": [
        "# Calculate the F1 score\n",
        "f1 = f1_score(y_test, y_pred1, pos_label='DDoS')\n",
        "\n",
        "print(\"F1 Score: \", f1)"
      ],
      "metadata": {
        "id": "dyWr7dh0Wyea"
      },
      "execution_count": null,
      "outputs": []
    },
    {
      "cell_type": "markdown",
      "source": [
        "\n",
        "\n",
        "> **Confusion Matrix**\n",
        "\n"
      ],
      "metadata": {
        "id": "IRw4RZJmWyea"
      }
    },
    {
      "cell_type": "code",
      "source": [
        "# Generate the confusion matrix\n",
        "cm = confusion_matrix(y_test, y_pred1)\n",
        "\n",
        "# Print the confusion matrix\n",
        "print(\"Confusion Matrix:\")\n",
        "print(cm)"
      ],
      "metadata": {
        "id": "bcl6mYksWyea"
      },
      "execution_count": null,
      "outputs": []
    },
    {
      "cell_type": "markdown",
      "source": [
        "## **SVM**"
      ],
      "metadata": {
        "id": "uLH5ODvjNvu5"
      }
    },
    {
      "cell_type": "markdown",
      "source": [
        "\n",
        "\n",
        "> **Model** \n",
        "\n"
      ],
      "metadata": {
        "id": "yUuOayxcOwGz"
      }
    },
    {
      "cell_type": "code",
      "source": [
        "from sklearn import svm\n",
        "\n",
        "res1 = time.time()\n",
        "\n",
        "# Create an SVM classifier\n",
        "clf = svm.SVC(kernel='linear')\n",
        "\n",
        "clf.fit(X_train_selected , y_train)\n",
        "\n",
        "res2 = time.time()\n",
        "\n",
        "print('SVM  took ',res2-res1,'seconds')"
      ],
      "metadata": {
        "id": "O4732i_xOwGz"
      },
      "execution_count": null,
      "outputs": []
    },
    {
      "cell_type": "markdown",
      "source": [
        "\n",
        "\n",
        "> **Validation**\n",
        "\n"
      ],
      "metadata": {
        "id": "VbxnmWrrOwG0"
      }
    },
    {
      "cell_type": "code",
      "source": [
        "#validating with kfold method\n",
        "# Define the number of folds (K)\n",
        "k = 5\n",
        "\n",
        "# Create a K-Fold cross-validator\n",
        "kf = KFold(n_splits=k)\n",
        "\n",
        "# Perform K-fold cross-validation\n",
        "scores = cross_val_score(clf, X_train_selected, y_train, cv=kf)\n",
        "\n",
        "# Print the accuracy for each fold\n",
        "for fold_idx, score in enumerate(scores):\n",
        "    print(f\"Fold {fold_idx + 1} accuracy: {score}\")\n",
        "\n",
        "# Compute the mean accuracy and standard deviation across all folds\n",
        "mean_accuracy = np.mean(scores)\n",
        "\n",
        "print(f\"\\nMean accuracy: {mean_accuracy}\")"
      ],
      "metadata": {
        "id": "FXTZAIYCOwG0"
      },
      "execution_count": null,
      "outputs": []
    },
    {
      "cell_type": "markdown",
      "source": [
        "\n",
        "\n",
        "> **Testing** **Model**\n",
        "\n"
      ],
      "metadata": {
        "id": "69UVkRHeOwG0"
      }
    },
    {
      "cell_type": "code",
      "source": [
        "y_pred1 = clf.predict(X_test_selected)\n",
        "\n",
        "#Calculate the accuracy\n",
        "accuracy = accuracy_score(y_test, y_pred1)\n",
        "print(\"Accuracy score:\", accuracy)\n"
      ],
      "metadata": {
        "id": "8Oy6mZISOwG0"
      },
      "execution_count": null,
      "outputs": []
    },
    {
      "cell_type": "markdown",
      "source": [
        "\n",
        "\n",
        "> **Precision**\n",
        "\n"
      ],
      "metadata": {
        "id": "X-ir-S38OwG0"
      }
    },
    {
      "cell_type": "code",
      "source": [
        "# Calculate the precision score\n",
        "precision = precision_score(y_test, y_pred1, average='weighted')\n",
        "print(\"Precision score:\", precision)\n"
      ],
      "metadata": {
        "id": "n87XgzPsOwG0"
      },
      "execution_count": null,
      "outputs": []
    },
    {
      "cell_type": "markdown",
      "source": [
        "\n",
        "\n",
        "> **Recall**\n",
        "\n"
      ],
      "metadata": {
        "id": "Ae6KjFiZOwG0"
      }
    },
    {
      "cell_type": "code",
      "source": [
        "# Calculate recall\n",
        "recall = recall_score(y_test , y_pred1, pos_label='DDoS')\n",
        "\n",
        "print(\"Recall:\", recall)"
      ],
      "metadata": {
        "id": "GoENMSeAOwG1"
      },
      "execution_count": null,
      "outputs": []
    },
    {
      "cell_type": "markdown",
      "source": [
        "\n",
        "\n",
        "> **F1** **Score**\n",
        "\n"
      ],
      "metadata": {
        "id": "9lPKTPe0OwG1"
      }
    },
    {
      "cell_type": "code",
      "source": [
        "# Calculate the F1 score\n",
        "f1 = f1_score(y_test, y_pred1, pos_label='DDoS')\n",
        "\n",
        "print(\"F1 Score: \", f1)"
      ],
      "metadata": {
        "id": "5HZCcBXmOwG1"
      },
      "execution_count": null,
      "outputs": []
    },
    {
      "cell_type": "markdown",
      "source": [
        "\n",
        "\n",
        "> **Confusion Matrix**\n",
        "\n"
      ],
      "metadata": {
        "id": "Hw4BQpkxOwG1"
      }
    },
    {
      "cell_type": "code",
      "source": [
        "# Generate the confusion matrix\n",
        "cm = confusion_matrix(y_test, y_pred1)\n",
        "\n",
        "# Print the confusion matrix\n",
        "print(\"Confusion Matrix:\")\n",
        "print(cm)"
      ],
      "metadata": {
        "id": "PITZwq_DOwG1"
      },
      "execution_count": null,
      "outputs": []
    }
  ]
}